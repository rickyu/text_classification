{
 "cells": [
  {
   "cell_type": "code",
   "execution_count": 3,
   "metadata": {},
   "outputs": [],
   "source": [
    "%load_ext autoreload\n",
    "%autoreload 2\n",
    "%matplotlib inline"
   ]
  },
  {
   "cell_type": "code",
   "execution_count": 4,
   "metadata": {},
   "outputs": [
    {
     "name": "stderr",
     "output_type": "stream",
     "text": [
      "Using TensorFlow backend.\n"
     ]
    }
   ],
   "source": [
    "import keras\n",
    "from keras.preprocessing.text import Tokenizer\n",
    "import sklearn\n",
    "import sklearn.preprocessing\n",
    "import tensorflow as tf"
   ]
  },
  {
   "cell_type": "code",
   "execution_count": 5,
   "metadata": {},
   "outputs": [],
   "source": [
    "import pandas as pd"
   ]
  },
  {
   "cell_type": "code",
   "execution_count": 31,
   "metadata": {},
   "outputs": [],
   "source": [
    "\n",
    "def clean_chinese_str(s):\n",
    "    out = ''\n",
    "    #mystr = string.decode('utf-8')\n",
    "    mystr = s\n",
    "    mystr = mystr[:100]\n",
    "    for letter in mystr:\n",
    "        out += letter + ' '\n",
    "    return out\n",
    "\n",
    "def preprocess_text(texts):\n",
    "    import jieba\n",
    "    return texts.map(lambda x:' '.join(list(jieba.cut(x))))\n",
    "\n",
    "# 加载数据,对文本进行预处理。返回texts, labels.\n",
    "def load_csv_data(path):\n",
    "    df_train = pd.read_csv(path)\n",
    "    data_list = df_train['text']\n",
    "    class_list = df_train['label']\n",
    "    y_labels = list(class_list.value_counts().index)\n",
    "    label_encoder = sklearn.preprocessing.LabelEncoder()\n",
    "    label_encoder.fit(y_labels)\n",
    "    num_labels = len(y_labels)\n",
    "    y_labels = keras.utils.to_categorical(class_list.map(lambda x: label_encoder.transform([x])), num_labels)\n",
    "    texts = preprocess_text(data_list)\n",
    "    return texts, y_labels\n",
    "\n",
    "def tokenize_texts(texts):\n",
    "    tokenizer = Tokenizer(filters='!\"#$%&()*,-./:;<=>?@[\\\\]^_`{|}~\\t\\n',lower=True,split=\" \")\n",
    "    tokenizer.fit_on_texts(texts)\n",
    "    vocab = tokenizer.word_index\n",
    "    word_ids = tokenizer.texts_to_sequences(texts)\n",
    "    padded_seqs = keras.preprocessing.sequence.pad_sequences(\n",
    "        word_ids, padding='post', truncating='post', maxlen=100)\n",
    "    return padded_seqs, vocab\n",
    "\n",
    "def split_train_test(X, y):\n",
    "    train_count = len(X)\n",
    "    X_train = X[0:train_count]\n",
    "    Y_train = y[0:train_count]\n",
    "    X_test = X[train_count:]\n",
    "    Y_test = y[train_count:]\n",
    "    return X_train, Y_train, X_test, Y_test\n",
    "\n",
    "def load_embedding_layer(word_index, input_length, embedding_path):\n",
    "    import yznlp.wordvec\n",
    "    \n",
    "    embeddings, dim = yznlp.wordvec.load_tencent_word_embedding(embedding_path)\n",
    "    weights = np.zeros((len(word_index), dim ))\n",
    "    unknown_words = []\n",
    "    for word, i in word_index.items():\n",
    "        \n",
    "        vec = embeddings.get(word, None)\n",
    "        print(word, i, vec)\n",
    "        if vec is not None:\n",
    "            weights[i-1] = vec\n",
    "        else:\n",
    "            unknown_words.append((word, i))\n",
    "    print(len(unknown_words))\n",
    "    return keras.layers.Embedding(len(word_index), dim, input_length=input_length, trainable=False, weights=[weights])\n",
    "\n",
    "def get_tencent_lstm_model(word_index, input_length, embedding_path):\n",
    "    embedding_layer = load_embedding_layer(word_index, input_length, embedding_path)\n",
    "    model3 = keras.models.Sequential()\n",
    "    model3.add(embedding_layer)\n",
    "    model3.add(keras.layers.LSTM(256, dropout=0.5, recurrent_dropout=0.1))\n",
    "    model3.add(keras.layers.Dense(256, activation='relu'))\n",
    "    model3.add(keras.layers.Dense(2, activation='softmax'))\n",
    "    model3.compile(loss='categorical_crossentropy', optimizer='adam', metrics=['accuracy'])\n",
    "    return model3\n",
    "\n",
    "    \n",
    "    \n",
    "texts, labels = load_csv_data('data/ad1/ch_ad.csv')\n",
    "seqs, vocab = tokenize_texts(texts)\n",
    "X_train, Y_train, X_test, Y_test = split_train_test(seqs, labels)\n"
   ]
  },
  {
   "cell_type": "code",
   "execution_count": null,
   "metadata": {},
   "outputs": [],
   "source": [
    "sess = tf.Session(config=tf.ConfigProto(device_count={'gpu':1},log_device_placement=True))\n",
    "import keras.backend.tensorflow_backend as KTF\n",
    "KTF.set_session(sess)\n",
    "model3 = get_tencent_lstm_model(vocab, 100, 'var/Tencent_AILab_ChineseEmbedding.txt')\n",
    "model3.fit(X_train, Y_train, batch_size=32, epochs=12, validation_data=(X_test, Y_test))"
   ]
  },
  {
   "cell_type": "code",
   "execution_count": 29,
   "metadata": {},
   "outputs": [
    {
     "data": {
      "text/plain": [
       "array([[ 1603],\n",
       "       [   40],\n",
       "       [  417],\n",
       "       [14389],\n",
       "       [  530],\n",
       "       [  330],\n",
       "       [  950],\n",
       "       [  931],\n",
       "       [  110],\n",
       "       [ 4499],\n",
       "       [ 4500],\n",
       "       [ 4501],\n",
       "       [14390],\n",
       "       [ 2498],\n",
       "       [ 1604],\n",
       "       [ 5154],\n",
       "       [    6],\n",
       "       [ 1437],\n",
       "       [   23],\n",
       "       [    0],\n",
       "       [    0],\n",
       "       [    0],\n",
       "       [    0],\n",
       "       [    0],\n",
       "       [    0],\n",
       "       [    0],\n",
       "       [    0],\n",
       "       [    0],\n",
       "       [    0],\n",
       "       [    0],\n",
       "       [    0],\n",
       "       [    0],\n",
       "       [    0],\n",
       "       [    0],\n",
       "       [    0],\n",
       "       [    0],\n",
       "       [    0],\n",
       "       [    0],\n",
       "       [    0],\n",
       "       [    0],\n",
       "       [    0],\n",
       "       [    0],\n",
       "       [    0],\n",
       "       [    0],\n",
       "       [    0],\n",
       "       [    0],\n",
       "       [    0],\n",
       "       [    0],\n",
       "       [    0],\n",
       "       [    0],\n",
       "       [    0],\n",
       "       [    0],\n",
       "       [    0],\n",
       "       [    0],\n",
       "       [    0],\n",
       "       [    0],\n",
       "       [    0],\n",
       "       [    0],\n",
       "       [    0],\n",
       "       [    0],\n",
       "       [    0],\n",
       "       [    0],\n",
       "       [    0],\n",
       "       [    0],\n",
       "       [    0],\n",
       "       [    0],\n",
       "       [    0],\n",
       "       [    0],\n",
       "       [    0],\n",
       "       [    0],\n",
       "       [    0],\n",
       "       [    0],\n",
       "       [    0],\n",
       "       [    0],\n",
       "       [    0],\n",
       "       [    0],\n",
       "       [    0],\n",
       "       [    0],\n",
       "       [    0],\n",
       "       [    0],\n",
       "       [    0],\n",
       "       [    0],\n",
       "       [    0],\n",
       "       [    0],\n",
       "       [    0],\n",
       "       [    0],\n",
       "       [    0],\n",
       "       [    0],\n",
       "       [    0],\n",
       "       [    0],\n",
       "       [    0],\n",
       "       [    0],\n",
       "       [    0],\n",
       "       [    0],\n",
       "       [    0],\n",
       "       [    0],\n",
       "       [    0],\n",
       "       [    0],\n",
       "       [    0],\n",
       "       [    0]], dtype=int32)"
      ]
     },
     "execution_count": 29,
     "metadata": {},
     "output_type": "execute_result"
    }
   ],
   "source": [
    "import numpy as np\n",
    "x_train_padded_seqs=np.expand_dims(X_train,axis=2)\n",
    "x_train_padded_seqs[0]"
   ]
  },
  {
   "cell_type": "code",
   "execution_count": 26,
   "metadata": {},
   "outputs": [],
   "source": [
    "x_test_padded_seqs=np.expand_dims(X_test,axis=2)"
   ]
  },
  {
   "cell_type": "code",
   "execution_count": 1,
   "metadata": {},
   "outputs": [
    {
     "ename": "NameError",
     "evalue": "name 'tf' is not defined",
     "output_type": "error",
     "traceback": [
      "\u001b[0;31m---------------------------------------------------------------------------\u001b[0m",
      "\u001b[0;31mNameError\u001b[0m                                 Traceback (most recent call last)",
      "\u001b[0;32m<ipython-input-1-fd24179b8dca>\u001b[0m in \u001b[0;36m<module>\u001b[0;34m()\u001b[0m\n\u001b[0;32m----> 1\u001b[0;31m \u001b[0msess\u001b[0m \u001b[0;34m=\u001b[0m \u001b[0mtf\u001b[0m\u001b[0;34m.\u001b[0m\u001b[0mSession\u001b[0m\u001b[0;34m(\u001b[0m\u001b[0mconfig\u001b[0m\u001b[0;34m=\u001b[0m\u001b[0mtf\u001b[0m\u001b[0;34m.\u001b[0m\u001b[0mConfigProto\u001b[0m\u001b[0;34m(\u001b[0m\u001b[0mdevice_count\u001b[0m\u001b[0;34m=\u001b[0m\u001b[0;34m{\u001b[0m\u001b[0;34m'gpu'\u001b[0m\u001b[0;34m:\u001b[0m\u001b[0;36m1\u001b[0m\u001b[0;34m}\u001b[0m\u001b[0;34m,\u001b[0m\u001b[0mlog_device_placement\u001b[0m\u001b[0;34m=\u001b[0m\u001b[0;32mTrue\u001b[0m\u001b[0;34m)\u001b[0m\u001b[0;34m)\u001b[0m\u001b[0;34m\u001b[0m\u001b[0m\n\u001b[0m\u001b[1;32m      2\u001b[0m \u001b[0;32mimport\u001b[0m \u001b[0mkeras\u001b[0m\u001b[0;34m.\u001b[0m\u001b[0mbackend\u001b[0m\u001b[0;34m.\u001b[0m\u001b[0mtensorflow_backend\u001b[0m \u001b[0;32mas\u001b[0m \u001b[0mKTF\u001b[0m\u001b[0;34m\u001b[0m\u001b[0m\n\u001b[1;32m      3\u001b[0m \u001b[0mKTF\u001b[0m\u001b[0;34m.\u001b[0m\u001b[0mset_session\u001b[0m\u001b[0;34m(\u001b[0m\u001b[0msess\u001b[0m\u001b[0;34m)\u001b[0m\u001b[0;34m\u001b[0m\u001b[0m\n",
      "\u001b[0;31mNameError\u001b[0m: name 'tf' is not defined"
     ]
    }
   ],
   "source": [
    "\n"
   ]
  },
  {
   "cell_type": "code",
   "execution_count": 31,
   "metadata": {},
   "outputs": [],
   "source": [
    "model = keras.models.Sequential()\n",
    "model.add(keras.layers.LSTM(256, dropout=0.5, recurrent_dropout=0.1))\n",
    "model.add(keras.layers.Dense(256, activation='relu'))\n",
    "model.add(keras.layers.Dense(2, activation='softmax'))\n"
   ]
  },
  {
   "cell_type": "code",
   "execution_count": 32,
   "metadata": {},
   "outputs": [],
   "source": [
    "model.compile(loss='categorical_crossentropy', optimizer='adam', metrics=['accuracy'])"
   ]
  },
  {
   "cell_type": "code",
   "execution_count": 33,
   "metadata": {},
   "outputs": [
    {
     "name": "stdout",
     "output_type": "stream",
     "text": [
      "Train on 14027 samples, validate on 1559 samples\n",
      "Epoch 1/12\n",
      "14027/14027 [==============================] - 87s 6ms/step - loss: 0.6711 - acc: 0.5573 - val_loss: 0.8392 - val_acc: 0.6594\n",
      "Epoch 2/12\n",
      "14027/14027 [==============================] - 86s 6ms/step - loss: 0.6440 - acc: 0.6132 - val_loss: 1.1139 - val_acc: 0.3149\n",
      "Epoch 3/12\n",
      "14027/14027 [==============================] - 86s 6ms/step - loss: 0.6021 - acc: 0.6759 - val_loss: 0.8329 - val_acc: 0.4920\n",
      "Epoch 12/12\n",
      "14027/14027 [==============================] - 86s 6ms/step - loss: 0.6110 - acc: 0.6700 - val_loss: 0.9513 - val_acc: 0.5247\n"
     ]
    },
    {
     "data": {
      "text/plain": [
       "<keras.callbacks.History at 0x7fecb28a2cc0>"
      ]
     },
     "execution_count": 33,
     "metadata": {},
     "output_type": "execute_result"
    }
   ],
   "source": [
    "\n",
    "model.fit(x_train_padded_seqs, Y_train, batch_size=32, epochs=12, validation_data=(x_test_padded_seqs, Y_test))"
   ]
  },
  {
   "cell_type": "code",
   "execution_count": null,
   "metadata": {},
   "outputs": [],
   "source": [
    "model2 = keras.models.Sequential()\n"
   ]
  },
  {
   "cell_type": "code",
   "execution_count": null,
   "metadata": {},
   "outputs": [],
   "source": [
    "#model2.add(keras.layers.Input(shape=(100,), dtype='int32'))\n",
    "model2.add(keras.layers.Embedding(len(tokenizer.word_index)+1, 300, input_length=100))\n",
    "model2.add(keras.layers.LSTM(256, dropout=0.5, recurrent_dropout=0.1))\n",
    "model2.add(keras.layers.Dense(256, activation='relu'))\n",
    "model2.add(keras.layers.Dense(2, activation='softmax'))\n"
   ]
  },
  {
   "cell_type": "code",
   "execution_count": null,
   "metadata": {},
   "outputs": [],
   "source": [
    "model2.compile(loss='categorical_crossentropy', optimizer='adam', metrics=['accuracy'])"
   ]
  },
  {
   "cell_type": "code",
   "execution_count": null,
   "metadata": {},
   "outputs": [],
   "source": [
    "X_train = keras.preprocessing.sequence.pad_sequences(x_train_word_ids, padding='post', truncating='post', maxlen=100)\n",
    "X_test = keras.preprocessing.sequence.pad_sequences(x_test_word_ids, padding='post', truncating='post', maxlen=100)"
   ]
  },
  {
   "cell_type": "code",
   "execution_count": null,
   "metadata": {},
   "outputs": [],
   "source": [
    "model2.fit(X_train, Y_train, batch_size=32, epochs=12, validation_data=(X_test\n",
    "                                                                                 , Y_test))"
   ]
  },
  {
   "cell_type": "code",
   "execution_count": null,
   "metadata": {},
   "outputs": [],
   "source": [
    "\n",
    "\n",
    "     \n",
    "    \n",
    "        \n",
    "            \n",
    "\n",
    "\n",
    "\n"
   ]
  },
  {
   "cell_type": "code",
   "execution_count": null,
   "metadata": {},
   "outputs": [],
   "source": []
  },
  {
   "cell_type": "code",
   "execution_count": null,
   "metadata": {},
   "outputs": [],
   "source": []
  }
 ],
 "metadata": {
  "kernelspec": {
   "display_name": "Python 3",
   "language": "python",
   "name": "python3"
  },
  "language_info": {
   "codemirror_mode": {
    "name": "ipython",
    "version": 3
   },
   "file_extension": ".py",
   "mimetype": "text/x-python",
   "name": "python",
   "nbconvert_exporter": "python",
   "pygments_lexer": "ipython3",
   "version": "3.6.5"
  }
 },
 "nbformat": 4,
 "nbformat_minor": 2
}
