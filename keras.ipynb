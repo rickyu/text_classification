{
 "cells": [
  {
   "cell_type": "code",
   "execution_count": 38,
   "metadata": {},
   "outputs": [
    {
     "name": "stdout",
     "output_type": "stream",
     "text": [
      "The autoreload extension is already loaded. To reload it, use:\n",
      "  %reload_ext autoreload\n"
     ]
    }
   ],
   "source": [
    "%load_ext autoreload\n",
    "%autoreload 2\n",
    "%matplotlib inline"
   ]
  },
  {
   "cell_type": "code",
   "execution_count": 2,
   "metadata": {},
   "outputs": [],
   "source": [
    "import tensorflow as tf\n",
    "import pandas as pd"
   ]
  },
  {
   "cell_type": "code",
   "execution_count": 3,
   "metadata": {},
   "outputs": [],
   "source": [
    "from tensorflow import keras"
   ]
  },
  {
   "cell_type": "code",
   "execution_count": 4,
   "metadata": {},
   "outputs": [],
   "source": [
    "import numpy as np"
   ]
  },
  {
   "cell_type": "code",
   "execution_count": 5,
   "metadata": {},
   "outputs": [
    {
     "name": "stdout",
     "output_type": "stream",
     "text": [
      "1.13.0-rc2\n"
     ]
    }
   ],
   "source": [
    "print(tf.__version__)"
   ]
  },
  {
   "cell_type": "code",
   "execution_count": 6,
   "metadata": {},
   "outputs": [],
   "source": [
    "imdb = keras.datasets.imdb"
   ]
  },
  {
   "cell_type": "code",
   "execution_count": 7,
   "metadata": {},
   "outputs": [
    {
     "name": "stdout",
     "output_type": "stream",
     "text": [
      "Downloading data from https://storage.googleapis.com/tensorflow/tf-keras-datasets/imdb.npz\n",
      "17465344/17464789 [==============================] - 7s 0us/step\n"
     ]
    }
   ],
   "source": [
    "(train_data, train_labels), (test_data, test_labels) = imdb.load_data(num_words=10000)"
   ]
  },
  {
   "cell_type": "code",
   "execution_count": 9,
   "metadata": {},
   "outputs": [
    {
     "name": "stdout",
     "output_type": "stream",
     "text": [
      "training 25000\n"
     ]
    }
   ],
   "source": [
    "print('training {}'.format(len(train_data)))"
   ]
  },
  {
   "cell_type": "code",
   "execution_count": 10,
   "metadata": {},
   "outputs": [
    {
     "name": "stdout",
     "output_type": "stream",
     "text": [
      "[1, 14, 22, 16, 43, 530, 973, 1622, 1385, 65, 458, 4468, 66, 3941, 4, 173, 36, 256, 5, 25, 100, 43, 838, 112, 50, 670, 2, 9, 35, 480, 284, 5, 150, 4, 172, 112, 167, 2, 336, 385, 39, 4, 172, 4536, 1111, 17, 546, 38, 13, 447, 4, 192, 50, 16, 6, 147, 2025, 19, 14, 22, 4, 1920, 4613, 469, 4, 22, 71, 87, 12, 16, 43, 530, 38, 76, 15, 13, 1247, 4, 22, 17, 515, 17, 12, 16, 626, 18, 2, 5, 62, 386, 12, 8, 316, 8, 106, 5, 4, 2223, 5244, 16, 480, 66, 3785, 33, 4, 130, 12, 16, 38, 619, 5, 25, 124, 51, 36, 135, 48, 25, 1415, 33, 6, 22, 12, 215, 28, 77, 52, 5, 14, 407, 16, 82, 2, 8, 4, 107, 117, 5952, 15, 256, 4, 2, 7, 3766, 5, 723, 36, 71, 43, 530, 476, 26, 400, 317, 46, 7, 4, 2, 1029, 13, 104, 88, 4, 381, 15, 297, 98, 32, 2071, 56, 26, 141, 6, 194, 7486, 18, 4, 226, 22, 21, 134, 476, 26, 480, 5, 144, 30, 5535, 18, 51, 36, 28, 224, 92, 25, 104, 4, 226, 65, 16, 38, 1334, 88, 12, 16, 283, 5, 16, 4472, 113, 103, 32, 15, 16, 5345, 19, 178, 32]\n"
     ]
    }
   ],
   "source": [
    "print(train_data[0])"
   ]
  },
  {
   "cell_type": "code",
   "execution_count": 11,
   "metadata": {},
   "outputs": [
    {
     "name": "stdout",
     "output_type": "stream",
     "text": [
      "Downloading data from https://storage.googleapis.com/tensorflow/tf-keras-datasets/imdb_word_index.json\n",
      "1646592/1641221 [==============================] - 2s 1us/step\n"
     ]
    }
   ],
   "source": [
    "word_index = imdb.get_word_index()"
   ]
  },
  {
   "cell_type": "code",
   "execution_count": 12,
   "metadata": {},
   "outputs": [
    {
     "data": {
      "text/plain": [
       "dict"
      ]
     },
     "execution_count": 12,
     "metadata": {},
     "output_type": "execute_result"
    }
   ],
   "source": [
    "type(word_index)"
   ]
  },
  {
   "cell_type": "code",
   "execution_count": 15,
   "metadata": {},
   "outputs": [],
   "source": [
    "word_index = {k:(v+3) for k,v in word_index.items()}"
   ]
  },
  {
   "cell_type": "code",
   "execution_count": 19,
   "metadata": {},
   "outputs": [],
   "source": [
    "word_index['<PAD>'] = 0\n",
    "word_index['<START>'] = 1\n",
    "word_index['<UNK>'] = 2\n",
    "word_index['<UNUSED>'] = 3"
   ]
  },
  {
   "cell_type": "code",
   "execution_count": 21,
   "metadata": {},
   "outputs": [],
   "source": [
    "reverse_word_index = dict([(value, key) for (key, value) in word_index.items()])"
   ]
  },
  {
   "cell_type": "code",
   "execution_count": 24,
   "metadata": {},
   "outputs": [
    {
     "data": {
      "text/plain": [
       "'many'"
      ]
     },
     "execution_count": 24,
     "metadata": {},
     "output_type": "execute_result"
    }
   ],
   "source": [
    "reverse_word_index[111]"
   ]
  },
  {
   "cell_type": "code",
   "execution_count": 25,
   "metadata": {},
   "outputs": [
    {
     "data": {
      "text/plain": [
       "numpy.ndarray"
      ]
     },
     "execution_count": 25,
     "metadata": {},
     "output_type": "execute_result"
    }
   ],
   "source": [
    "type(train_data)"
   ]
  },
  {
   "cell_type": "code",
   "execution_count": 29,
   "metadata": {},
   "outputs": [
    {
     "data": {
      "text/plain": [
       "list"
      ]
     },
     "execution_count": 29,
     "metadata": {},
     "output_type": "execute_result"
    }
   ],
   "source": [
    "type(train_data[0])"
   ]
  },
  {
   "cell_type": "code",
   "execution_count": 30,
   "metadata": {},
   "outputs": [],
   "source": [
    "train_data = keras.preprocessing.sequence.pad_sequences(train_data,\n",
    "                                                        value=word_index[\"<PAD>\"],\n",
    "                                                        padding='post',\n",
    "                                                        maxlen=256)\n",
    "\n",
    "test_data = keras.preprocessing.sequence.pad_sequences(test_data,\n",
    "                                                       value=word_index[\"<PAD>\"],\n",
    "                                                       padding='post',\n",
    "                                                       maxlen=256)"
   ]
  },
  {
   "cell_type": "code",
   "execution_count": 31,
   "metadata": {},
   "outputs": [
    {
     "name": "stdout",
     "output_type": "stream",
     "text": [
      "WARNING:tensorflow:From /Users/yuzuo/anaconda3/lib/python3.7/site-packages/tensorflow/python/ops/resource_variable_ops.py:435: colocate_with (from tensorflow.python.framework.ops) is deprecated and will be removed in a future version.\n",
      "Instructions for updating:\n",
      "Colocations handled automatically by placer.\n",
      "_________________________________________________________________\n",
      "Layer (type)                 Output Shape              Param #   \n",
      "=================================================================\n",
      "embedding (Embedding)        (None, None, 16)          160000    \n",
      "_________________________________________________________________\n",
      "global_average_pooling1d (Gl (None, 16)                0         \n",
      "_________________________________________________________________\n",
      "dense (Dense)                (None, 16)                272       \n",
      "_________________________________________________________________\n",
      "dense_1 (Dense)              (None, 1)                 17        \n",
      "=================================================================\n",
      "Total params: 160,289\n",
      "Trainable params: 160,289\n",
      "Non-trainable params: 0\n",
      "_________________________________________________________________\n"
     ]
    }
   ],
   "source": [
    "vocab_size = 10000\n",
    "\n",
    "model = keras.Sequential()\n",
    "model.add(keras.layers.Embedding(vocab_size, 16))\n",
    "model.add(keras.layers.GlobalAveragePooling1D())\n",
    "model.add(keras.layers.Dense(16, activation=tf.nn.relu))\n",
    "model.add(keras.layers.Dense(1, activation=tf.nn.sigmoid))\n",
    "\n",
    "model.summary()"
   ]
  },
  {
   "cell_type": "code",
   "execution_count": 32,
   "metadata": {},
   "outputs": [],
   "source": [
    "model.compile(optimizer=tf.train.AdamOptimizer(),\n",
    "              loss='binary_crossentropy',\n",
    "              metrics=['accuracy'])"
   ]
  },
  {
   "cell_type": "code",
   "execution_count": 33,
   "metadata": {},
   "outputs": [],
   "source": [
    "x_val = train_data[:10000]\n",
    "partial_x_train = train_data[10000:]\n",
    "\n",
    "y_val = train_labels[:10000]\n",
    "partial_y_train = train_labels[10000:]"
   ]
  },
  {
   "cell_type": "code",
   "execution_count": 34,
   "metadata": {},
   "outputs": [
    {
     "name": "stdout",
     "output_type": "stream",
     "text": [
      "Train on 15000 samples, validate on 10000 samples\n",
      "WARNING:tensorflow:From /Users/yuzuo/anaconda3/lib/python3.7/site-packages/tensorflow/python/ops/math_ops.py:3066: to_int32 (from tensorflow.python.ops.math_ops) is deprecated and will be removed in a future version.\n",
      "Instructions for updating:\n",
      "Use tf.cast instead.\n",
      "Epoch 1/40\n",
      "15000/15000 [==============================] - 1s 74us/sample - loss: 0.6923 - acc: 0.5079 - val_loss: 0.6907 - val_acc: 0.5480\n",
      "Epoch 2/40\n",
      "15000/15000 [==============================] - 1s 48us/sample - loss: 0.6878 - acc: 0.5781 - val_loss: 0.6840 - val_acc: 0.6292\n",
      "Epoch 3/40\n",
      "15000/15000 [==============================] - 1s 53us/sample - loss: 0.6764 - acc: 0.6373 - val_loss: 0.6683 - val_acc: 0.6713\n",
      "Epoch 4/40\n",
      "15000/15000 [==============================] - 1s 48us/sample - loss: 0.6547 - acc: 0.7094 - val_loss: 0.6435 - val_acc: 0.7018\n",
      "Epoch 5/40\n",
      "15000/15000 [==============================] - 1s 44us/sample - loss: 0.6236 - acc: 0.7445 - val_loss: 0.6113 - val_acc: 0.7579\n",
      "Epoch 6/40\n",
      "15000/15000 [==============================] - 1s 44us/sample - loss: 0.5855 - acc: 0.7887 - val_loss: 0.5743 - val_acc: 0.7917\n",
      "Epoch 7/40\n",
      "15000/15000 [==============================] - 1s 43us/sample - loss: 0.5437 - acc: 0.8219 - val_loss: 0.5357 - val_acc: 0.8178\n",
      "Epoch 8/40\n",
      "15000/15000 [==============================] - 1s 44us/sample - loss: 0.5016 - acc: 0.8467 - val_loss: 0.4990 - val_acc: 0.8328\n",
      "Epoch 9/40\n",
      "15000/15000 [==============================] - 1s 53us/sample - loss: 0.4610 - acc: 0.8669 - val_loss: 0.4645 - val_acc: 0.8459\n",
      "Epoch 10/40\n",
      "15000/15000 [==============================] - 1s 47us/sample - loss: 0.4230 - acc: 0.8794 - val_loss: 0.4338 - val_acc: 0.8524\n",
      "Epoch 11/40\n",
      "15000/15000 [==============================] - 1s 46us/sample - loss: 0.3884 - acc: 0.8901 - val_loss: 0.4068 - val_acc: 0.8631\n",
      "Epoch 12/40\n",
      "15000/15000 [==============================] - 1s 47us/sample - loss: 0.3576 - acc: 0.8959 - val_loss: 0.3830 - val_acc: 0.8679\n",
      "Epoch 13/40\n",
      "15000/15000 [==============================] - 1s 45us/sample - loss: 0.3307 - acc: 0.9022 - val_loss: 0.3632 - val_acc: 0.8731\n",
      "Epoch 14/40\n",
      "15000/15000 [==============================] - 1s 47us/sample - loss: 0.3065 - acc: 0.9085 - val_loss: 0.3471 - val_acc: 0.8758\n",
      "Epoch 15/40\n",
      "15000/15000 [==============================] - 1s 45us/sample - loss: 0.2861 - acc: 0.9126 - val_loss: 0.3349 - val_acc: 0.8767\n",
      "Epoch 16/40\n",
      "15000/15000 [==============================] - 1s 51us/sample - loss: 0.2676 - acc: 0.9164 - val_loss: 0.3235 - val_acc: 0.8778\n",
      "Epoch 17/40\n",
      "15000/15000 [==============================] - 1s 50us/sample - loss: 0.2510 - acc: 0.9223 - val_loss: 0.3144 - val_acc: 0.8819\n",
      "Epoch 18/40\n",
      "15000/15000 [==============================] - 1s 50us/sample - loss: 0.2366 - acc: 0.9259 - val_loss: 0.3081 - val_acc: 0.8812\n",
      "Epoch 19/40\n",
      "15000/15000 [==============================] - 1s 45us/sample - loss: 0.2237 - acc: 0.9299 - val_loss: 0.3014 - val_acc: 0.8838\n",
      "Epoch 20/40\n",
      "15000/15000 [==============================] - 1s 45us/sample - loss: 0.2123 - acc: 0.9330 - val_loss: 0.2961 - val_acc: 0.8846\n",
      "Epoch 21/40\n",
      "15000/15000 [==============================] - 1s 45us/sample - loss: 0.2006 - acc: 0.9386 - val_loss: 0.2922 - val_acc: 0.8838\n",
      "Epoch 22/40\n",
      "15000/15000 [==============================] - 1s 53us/sample - loss: 0.1911 - acc: 0.9421 - val_loss: 0.2904 - val_acc: 0.8856\n",
      "Epoch 23/40\n",
      "15000/15000 [==============================] - 1s 68us/sample - loss: 0.1818 - acc: 0.9447 - val_loss: 0.2889 - val_acc: 0.8839\n",
      "Epoch 24/40\n",
      "15000/15000 [==============================] - 1s 49us/sample - loss: 0.1737 - acc: 0.9481 - val_loss: 0.2857 - val_acc: 0.8851\n",
      "Epoch 25/40\n",
      "15000/15000 [==============================] - 1s 45us/sample - loss: 0.1657 - acc: 0.9512 - val_loss: 0.2851 - val_acc: 0.8865\n",
      "Epoch 26/40\n",
      "15000/15000 [==============================] - 1s 47us/sample - loss: 0.1583 - acc: 0.9539 - val_loss: 0.2860 - val_acc: 0.8835\n",
      "Epoch 27/40\n",
      "15000/15000 [==============================] - 1s 50us/sample - loss: 0.1518 - acc: 0.9567 - val_loss: 0.2846 - val_acc: 0.8850\n",
      "Epoch 28/40\n",
      "15000/15000 [==============================] - 1s 55us/sample - loss: 0.1455 - acc: 0.9590 - val_loss: 0.2847 - val_acc: 0.8856\n",
      "Epoch 29/40\n",
      "15000/15000 [==============================] - 1s 57us/sample - loss: 0.1398 - acc: 0.9608 - val_loss: 0.2871 - val_acc: 0.8831\n",
      "Epoch 30/40\n",
      "15000/15000 [==============================] - 1s 67us/sample - loss: 0.1340 - acc: 0.9621 - val_loss: 0.2865 - val_acc: 0.8860\n",
      "Epoch 31/40\n",
      "15000/15000 [==============================] - 1s 51us/sample - loss: 0.1283 - acc: 0.9646 - val_loss: 0.2877 - val_acc: 0.8873\n",
      "Epoch 32/40\n",
      "15000/15000 [==============================] - 1s 46us/sample - loss: 0.1232 - acc: 0.9673 - val_loss: 0.2896 - val_acc: 0.8865\n",
      "Epoch 33/40\n",
      "15000/15000 [==============================] - 1s 45us/sample - loss: 0.1185 - acc: 0.9688 - val_loss: 0.2919 - val_acc: 0.8833\n",
      "Epoch 34/40\n",
      "15000/15000 [==============================] - 1s 46us/sample - loss: 0.1142 - acc: 0.9692 - val_loss: 0.2927 - val_acc: 0.8863\n",
      "Epoch 35/40\n",
      "15000/15000 [==============================] - 1s 48us/sample - loss: 0.1097 - acc: 0.9719 - val_loss: 0.2973 - val_acc: 0.8843\n",
      "Epoch 36/40\n",
      "15000/15000 [==============================] - 1s 66us/sample - loss: 0.1057 - acc: 0.9731 - val_loss: 0.2985 - val_acc: 0.8855\n",
      "Epoch 37/40\n",
      "15000/15000 [==============================] - 1s 52us/sample - loss: 0.1016 - acc: 0.9753 - val_loss: 0.3003 - val_acc: 0.8850\n",
      "Epoch 38/40\n",
      "15000/15000 [==============================] - 1s 50us/sample - loss: 0.0980 - acc: 0.9763 - val_loss: 0.3038 - val_acc: 0.8833\n",
      "Epoch 39/40\n",
      "15000/15000 [==============================] - 1s 54us/sample - loss: 0.0948 - acc: 0.9771 - val_loss: 0.3078 - val_acc: 0.8825\n",
      "Epoch 40/40\n",
      "15000/15000 [==============================] - 1s 53us/sample - loss: 0.0910 - acc: 0.9791 - val_loss: 0.3085 - val_acc: 0.8842\n"
     ]
    }
   ],
   "source": [
    "history = model.fit(partial_x_train,\n",
    "                    partial_y_train,\n",
    "                    epochs=40,\n",
    "                    batch_size=512,\n",
    "                    validation_data=(x_val, y_val),\n",
    "                    verbose=1)"
   ]
  },
  {
   "cell_type": "code",
   "execution_count": 35,
   "metadata": {},
   "outputs": [
    {
     "name": "stdout",
     "output_type": "stream",
     "text": [
      "25000/25000 [==============================] - 1s 36us/sample - loss: 0.3313 - acc: 0.8719\n",
      "[0.3312730825376511, 0.87192]\n"
     ]
    }
   ],
   "source": [
    "results = model.evaluate(test_data, test_labels)\n",
    "\n",
    "print(results)"
   ]
  },
  {
   "cell_type": "code",
   "execution_count": 36,
   "metadata": {},
   "outputs": [
    {
     "data": {
      "text/plain": [
       "dict_keys(['loss', 'acc', 'val_loss', 'val_acc'])"
      ]
     },
     "execution_count": 36,
     "metadata": {},
     "output_type": "execute_result"
    }
   ],
   "source": [
    "history_dict = history.history\n",
    "history_dict.keys()"
   ]
  },
  {
   "cell_type": "code",
   "execution_count": 39,
   "metadata": {},
   "outputs": [
    {
     "data": {
      "image/png": "[encoded data removed]",
      "text/plain": [
       "<Figure size 432x288 with 1 Axes>"
      ]
     },
     "metadata": {
      "needs_background": "light"
     },
     "output_type": "display_data"
    }
   ],
   "source": [
    "import matplotlib.pyplot as plt\n",
    "\n",
    "acc = history.history['acc']\n",
    "val_acc = history.history['val_acc']\n",
    "loss = history.history['loss']\n",
    "val_loss = history.history['val_loss']\n",
    "\n",
    "epochs = range(1, len(acc) + 1)\n",
    "\n",
    "# \"bo\" is for \"blue dot\"\n",
    "plt.plot(epochs, loss, 'bo', label='Training loss')\n",
    "# b is for \"solid blue line\"\n",
    "plt.plot(epochs, val_loss, 'b', label='Validation loss')\n",
    "plt.title('Training and validation loss')\n",
    "plt.xlabel('Epochs')\n",
    "plt.ylabel('Loss')\n",
    "plt.legend()\n",
    "\n",
    "plt.show()"
   ]
  },
  {
   "cell_type": "code",
   "execution_count": null,
   "metadata": {},
   "outputs": [],
   "source": [
    "df_train = "
   ]
  }
 ],
 "metadata": {
  "kernelspec": {
   "display_name": "Python 3",
   "language": "python",
   "name": "python3"
  },
  "language_info": {
   "codemirror_mode": {
    "name": "ipython",
    "version": 3
   },
   "file_extension": ".py",
   "mimetype": "text/x-python",
   "name": "python",
   "nbconvert_exporter": "python",
   "pygments_lexer": "ipython3",
   "version": "3.7.1"
  }
 },
 "nbformat": 4,
 "nbformat_minor": 2
}
